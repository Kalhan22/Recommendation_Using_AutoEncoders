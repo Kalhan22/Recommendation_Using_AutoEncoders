{
 "cells": [
  {
   "cell_type": "code",
   "execution_count": 6,
   "metadata": {
    "collapsed": true
   },
   "outputs": [],
   "source": [
    "import pandas as pd\n",
    "import numpy as np\n",
    "\n",
    "user = \"405\"\n",
    "location = \"../UserData/405/\"\n",
    "\n",
    "df = pd.read_csv('../UserData/405/full_data_similar_user_405.csv')\n",
    "df['split'] = np.random.randn(df.shape[0], 1)\n",
    "\n",
    "msk = np.random.rand(len(df)) <= 0.7\n",
    "\n",
    "train = df[msk]\n",
    "test = df[~msk]\n",
    "\n",
    "max_col_size = len(train.columns) - 2\n",
    "train_X = train.iloc[1:len(train),1:max_col_size]\n",
    "csv_name = location + \"trainX\" + \"_\" + user + \".csv\"\n",
    "train_X.to_csv(csv_name,index=False, header=False)\n",
    "\n",
    "train_Y = train.iloc[1:len(train),max_col_size]\n",
    "csv_name = location + \"trainY\" + \"_\" + user + \".csv\"\n",
    "train_Y.to_csv(csv_name,index=False, header=False)\n",
    "\n",
    "test_X = test.iloc[1:len(test),1:max_col_size]\n",
    "csv_name = location + \"testX\" + \"_\" + user + \".csv\"\n",
    "test_X.to_csv(csv_name,index=False, header=False)\n",
    "\n",
    "test_Y = test.iloc[1:len(test),max_col_size]\n",
    "csv_name = location + \"testY\" + \"_\" + user + \".csv\"\n",
    "test_Y.to_csv(csv_name,index=False, header=False)\n"
   ]
  },
  {
   "cell_type": "code",
   "execution_count": null,
   "metadata": {
    "collapsed": true
   },
   "outputs": [],
   "source": []
  }
 ],
 "metadata": {
  "kernelspec": {
   "display_name": "Python 3",
   "language": "python",
   "name": "python3"
  },
  "language_info": {
   "codemirror_mode": {
    "name": "ipython",
    "version": 3
   },
   "file_extension": ".py",
   "mimetype": "text/x-python",
   "name": "python",
   "nbconvert_exporter": "python",
   "pygments_lexer": "ipython3",
   "version": "3.6.4"
  }
 },
 "nbformat": 4,
 "nbformat_minor": 2
}
