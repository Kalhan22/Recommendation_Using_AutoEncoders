{
 "cells": [
  {
   "cell_type": "code",
   "execution_count": 1,
   "metadata": {},
   "outputs": [],
   "source": [
    "import pandas as pd\n",
    "df = pd.read_csv(\"../UserData/ratings_python.csv\", sep=',')\n"
   ]
  },
  {
   "cell_type": "code",
   "execution_count": 2,
   "metadata": {
    "collapsed": true
   },
   "outputs": [],
   "source": [
    "matrix_data = df.pivot(index='userID', columns='itemID', values='rating')\n",
    "matrix_data_transposed = df.pivot(index='itemID', columns='userID', values='rating')\n",
    "#matrix_data_transposed.to_csv('matrix_data_transposed.csv')"
   ]
  },
  {
   "cell_type": "code",
   "execution_count": 5,
   "metadata": {},
   "outputs": [],
   "source": [
    "from sklearn.metrics.pairwise import cosine_similarity\n",
    "matrix_data = matrix_data.fillna(0)\n",
    "#Preparation for User ID: 405"
   ]
  },
  {
   "cell_type": "code",
   "execution_count": 6,
   "metadata": {},
   "outputs": [
    {
     "name": "stdout",
     "output_type": "stream",
     "text": [
      "Top Neighbours\n",
      "[405, 846, 311, 94, 194, 276, 222, 450, 59, 7, 378, 712, 864, 293, 618, 303, 308, 682, 429, 95, 796]\n"
     ]
    }
   ],
   "source": [
    "cosine = cosine_similarity(matrix_data)\n",
    "\n",
    "import numpy as np;\n",
    "print('Top Neighbours')\n",
    "import heapq\n",
    "my_list = heapq.nlargest(21, range(len(cosine[404])), cosine[404].take)\n",
    "new_list = [x+1 for x in my_list]\n",
    "print(new_list)\n",
    "\n"
   ]
  }
 ],
 "metadata": {
  "kernelspec": {
   "display_name": "Python 3",
   "language": "python",
   "name": "python3"
  },
  "language_info": {
   "codemirror_mode": {
    "name": "ipython",
    "version": 3
   },
   "file_extension": ".py",
   "mimetype": "text/x-python",
   "name": "python",
   "nbconvert_exporter": "python",
   "pygments_lexer": "ipython3",
   "version": "3.6.4"
  }
 },
 "nbformat": 4,
 "nbformat_minor": 2
}
