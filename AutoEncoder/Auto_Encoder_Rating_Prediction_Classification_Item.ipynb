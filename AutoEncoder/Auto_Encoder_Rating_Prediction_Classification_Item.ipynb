{
 "cells": [
  {
   "cell_type": "code",
   "execution_count": 91,
   "metadata": {
    "collapsed": true
   },
   "outputs": [],
   "source": [
    "from keras.models import Model \n",
    "from keras.layers import Input, Dense \n",
    "from keras.utils import np_utils \n",
    "import numpy as np\n",
    "from tensorflow.python.ops.variables import trainable_variables\n",
    "from numpy import genfromtxt\n",
    "\n",
    "X_train_my = genfromtxt('../UserData/655/trainX_item_655.csv', delimiter=',')\n",
    "y_train_my = genfromtxt('../UserData/655/trainY_item_655.csv', delimiter=',')\n",
    "X_test_my = genfromtxt('../UserData/655/testX_item_655.csv', delimiter=',')\n",
    "y_test_my = genfromtxt('../UserData/655/testY_item_655.csv', delimiter=',')\n",
    "\n",
    "num_classes_my = 6 # there are 5 classes (1 per rating class)\n"
   ]
  },
  {
   "cell_type": "code",
   "execution_count": 92,
   "metadata": {
    "scrolled": true
   },
   "outputs": [
    {
     "name": "stdout",
     "output_type": "stream",
     "text": [
      "(401, 19)\n"
     ]
    }
   ],
   "source": [
    "X_train_my = X_train_my.astype('float32') \n",
    "X_train_my = X_train_my.astype('float32')\n",
    "print(X_train_my.shape)\n"
   ]
  },
  {
   "cell_type": "code",
   "execution_count": 93,
   "metadata": {
    "collapsed": true,
    "scrolled": false
   },
   "outputs": [],
   "source": [
    "Y_train_my = np_utils.to_categorical(y_train_my, num_classes_my) # One-hot encode the labels\n",
    "\n",
    "Y_test_my = np_utils.to_categorical(y_test_my, num_classes_my) # One-hot encode the labels\n"
   ]
  },
  {
   "cell_type": "code",
   "execution_count": 94,
   "metadata": {},
   "outputs": [
    {
     "name": "stdout",
     "output_type": "stream",
     "text": [
      "Tensor(\"input_6:0\", shape=(?, 19), dtype=float32)\n"
     ]
    }
   ],
   "source": [
    "input_img_my = Input(shape=(19,))\n",
    "\n",
    "print(input_img_my)"
   ]
  },
  {
   "cell_type": "code",
   "execution_count": 95,
   "metadata": {},
   "outputs": [
    {
     "name": "stdout",
     "output_type": "stream",
     "text": [
      "Tensor(\"dense_40/Relu:0\", shape=(?, 19), dtype=float32)\n"
     ]
    }
   ],
   "source": [
    "x_my = Dense(19, activation='relu')(input_img_my)\n",
    "print(x_my)"
   ]
  },
  {
   "cell_type": "code",
   "execution_count": 96,
   "metadata": {
    "collapsed": true
   },
   "outputs": [],
   "source": [
    "encoded1_my = Dense(15, activation='relu')(x_my)\n",
    "encoded2_my = Dense(12, activation='relu')(encoded1_my)\n",
    "\n",
    "\n",
    "\n"
   ]
  },
  {
   "cell_type": "code",
   "execution_count": 97,
   "metadata": {
    "collapsed": true
   },
   "outputs": [],
   "source": [
    "y_my = Dense(10, activation='relu')(encoded2_my)"
   ]
  },
  {
   "cell_type": "code",
   "execution_count": 98,
   "metadata": {
    "collapsed": true
   },
   "outputs": [],
   "source": [
    "decoded2_my = Dense(12, activation='relu')(y_my)\n",
    "decoded1_my = Dense(15, activation='relu')(decoded2_my)\n"
   ]
  },
  {
   "cell_type": "code",
   "execution_count": 99,
   "metadata": {},
   "outputs": [],
   "source": [
    "z_my = Dense(19, activation='relu')(decoded1_my)\n",
    "autoencoder_my = Model(input_img_my, z_my)\n"
   ]
  },
  {
   "cell_type": "code",
   "execution_count": 100,
   "metadata": {},
   "outputs": [
    {
     "name": "stdout",
     "output_type": "stream",
     "text": [
      "<keras.engine.training.Model object at 0x1a1515c320>\n"
     ]
    }
   ],
   "source": [
    "\n",
    "#encoder is the model of the autoencoder slice in the middle \n",
    "encoder_my = Model(input_img_my, y_my)\n",
    "\n",
    "print(encoder_my)"
   ]
  },
  {
   "cell_type": "code",
   "execution_count": 101,
   "metadata": {
    "collapsed": true
   },
   "outputs": [],
   "source": [
    "autoencoder_my.compile(optimizer='adadelta', loss='mse') # reporting the loss"
   ]
  },
  {
   "cell_type": "code",
   "execution_count": 102,
   "metadata": {},
   "outputs": [
    {
     "name": "stdout",
     "output_type": "stream",
     "text": [
      "(172, 19)\n",
      "(401, 19)\n"
     ]
    }
   ],
   "source": [
    "print(X_test_my.shape)\n",
    "\n",
    "print(X_train_my.shape)"
   ]
  },
  {
   "cell_type": "code",
   "execution_count": 103,
   "metadata": {
    "scrolled": true
   },
   "outputs": [
    {
     "name": "stdout",
     "output_type": "stream",
     "text": [
      "Train on 401 samples, validate on 172 samples\n",
      "Epoch 1/50\n",
      "401/401 [==============================] - 1s 3ms/step - loss: 0.6876 - val_loss: 0.4580\n",
      "Epoch 2/50\n",
      "401/401 [==============================] - 0s 655us/step - loss: 0.1482 - val_loss: 0.1141\n",
      "Epoch 3/50\n",
      "401/401 [==============================] - 0s 703us/step - loss: 0.0877 - val_loss: 0.0891\n",
      "Epoch 4/50\n",
      "401/401 [==============================] - 0s 656us/step - loss: 0.0834 - val_loss: 0.0844\n",
      "Epoch 5/50\n",
      "401/401 [==============================] - 0s 649us/step - loss: 0.0811 - val_loss: 0.0835\n",
      "Epoch 6/50\n",
      "401/401 [==============================] - 0s 665us/step - loss: 0.0790 - val_loss: 0.0788\n",
      "Epoch 7/50\n",
      "401/401 [==============================] - 0s 653us/step - loss: 0.0768 - val_loss: 0.0774\n",
      "Epoch 8/50\n",
      "401/401 [==============================] - 0s 649us/step - loss: 0.0749 - val_loss: 0.0774\n",
      "Epoch 9/50\n",
      "401/401 [==============================] - 0s 669us/step - loss: 0.0730 - val_loss: 0.0750\n",
      "Epoch 10/50\n",
      "401/401 [==============================] - 0s 672us/step - loss: 0.0713 - val_loss: 0.0763\n",
      "Epoch 11/50\n",
      "401/401 [==============================] - 0s 646us/step - loss: 0.0701 - val_loss: 0.0721\n",
      "Epoch 12/50\n",
      "401/401 [==============================] - 0s 630us/step - loss: 0.0688 - val_loss: 0.0721\n",
      "Epoch 13/50\n",
      "401/401 [==============================] - 0s 806us/step - loss: 0.0677 - val_loss: 0.0703\n",
      "Epoch 14/50\n",
      "401/401 [==============================] - 0s 664us/step - loss: 0.0669 - val_loss: 0.0700\n",
      "Epoch 15/50\n",
      "401/401 [==============================] - 0s 657us/step - loss: 0.0662 - val_loss: 0.0696\n",
      "Epoch 16/50\n",
      "401/401 [==============================] - 0s 647us/step - loss: 0.0656 - val_loss: 0.0685\n",
      "Epoch 17/50\n",
      "401/401 [==============================] - 0s 643us/step - loss: 0.0650 - val_loss: 0.0679\n",
      "Epoch 18/50\n",
      "401/401 [==============================] - 0s 651us/step - loss: 0.0644 - val_loss: 0.0675\n",
      "Epoch 19/50\n",
      "401/401 [==============================] - 0s 677us/step - loss: 0.0639 - val_loss: 0.0670\n",
      "Epoch 20/50\n",
      "401/401 [==============================] - 0s 689us/step - loss: 0.0634 - val_loss: 0.0672\n",
      "Epoch 21/50\n",
      "401/401 [==============================] - ETA: 0s - loss: 0.064 - 0s 642us/step - loss: 0.0630 - val_loss: 0.0664\n",
      "Epoch 22/50\n",
      "401/401 [==============================] - 0s 712us/step - loss: 0.0626 - val_loss: 0.0657\n",
      "Epoch 23/50\n",
      "401/401 [==============================] - 0s 664us/step - loss: 0.0622 - val_loss: 0.0656\n",
      "Epoch 24/50\n",
      "401/401 [==============================] - 0s 929us/step - loss: 0.0619 - val_loss: 0.0658\n",
      "Epoch 25/50\n",
      "401/401 [==============================] - 0s 680us/step - loss: 0.0616 - val_loss: 0.0650\n",
      "Epoch 26/50\n",
      "401/401 [==============================] - 0s 661us/step - loss: 0.0613 - val_loss: 0.0648\n",
      "Epoch 27/50\n",
      "401/401 [==============================] - 0s 715us/step - loss: 0.0611 - val_loss: 0.0645\n",
      "Epoch 28/50\n",
      "401/401 [==============================] - 0s 850us/step - loss: 0.0608 - val_loss: 0.0641\n",
      "Epoch 29/50\n",
      "401/401 [==============================] - 0s 815us/step - loss: 0.0606 - val_loss: 0.0640\n",
      "Epoch 30/50\n",
      "401/401 [==============================] - 0s 676us/step - loss: 0.0603 - val_loss: 0.0639\n",
      "Epoch 31/50\n",
      "401/401 [==============================] - 0s 670us/step - loss: 0.0602 - val_loss: 0.0633\n",
      "Epoch 32/50\n",
      "401/401 [==============================] - 0s 670us/step - loss: 0.0599 - val_loss: 0.0635\n",
      "Epoch 33/50\n",
      "401/401 [==============================] - 0s 660us/step - loss: 0.0597 - val_loss: 0.0631\n",
      "Epoch 34/50\n",
      "401/401 [==============================] - 0s 507us/step - loss: 0.0595 - val_loss: 0.0628\n",
      "Epoch 35/50\n",
      "401/401 [==============================] - 0s 984us/step - loss: 0.0593 - val_loss: 0.0629\n",
      "Epoch 36/50\n",
      "401/401 [==============================] - 0s 992us/step - loss: 0.0591 - val_loss: 0.0626\n",
      "Epoch 37/50\n",
      "401/401 [==============================] - 0s 828us/step - loss: 0.0590 - val_loss: 0.0628\n",
      "Epoch 38/50\n",
      "401/401 [==============================] - 0s 813us/step - loss: 0.0588 - val_loss: 0.0622\n",
      "Epoch 39/50\n",
      "401/401 [==============================] - 0s 982us/step - loss: 0.0585 - val_loss: 0.0626\n",
      "Epoch 40/50\n",
      "401/401 [==============================] - 0s 1000us/step - loss: 0.0584 - val_loss: 0.0617\n",
      "Epoch 41/50\n",
      "401/401 [==============================] - 0s 735us/step - loss: 0.0582 - val_loss: 0.0618\n",
      "Epoch 42/50\n",
      "401/401 [==============================] - 0s 678us/step - loss: 0.0580 - val_loss: 0.0616\n",
      "Epoch 43/50\n",
      "401/401 [==============================] - 0s 713us/step - loss: 0.0579 - val_loss: 0.0618\n",
      "Epoch 44/50\n",
      "401/401 [==============================] - 0s 815us/step - loss: 0.0577 - val_loss: 0.0620\n",
      "Epoch 45/50\n",
      "401/401 [==============================] - 0s 709us/step - loss: 0.0576 - val_loss: 0.0611\n",
      "Epoch 46/50\n",
      "401/401 [==============================] - 0s 833us/step - loss: 0.0574 - val_loss: 0.0609\n",
      "Epoch 47/50\n",
      "401/401 [==============================] - 0s 777us/step - loss: 0.0573 - val_loss: 0.0617\n",
      "Epoch 48/50\n",
      "401/401 [==============================] - 0s 788us/step - loss: 0.0571 - val_loss: 0.0607\n",
      "Epoch 49/50\n",
      "401/401 [==============================] - 0s 698us/step - loss: 0.0570 - val_loss: 0.0606\n",
      "Epoch 50/50\n",
      "401/401 [==============================] - 0s 822us/step - loss: 0.0568 - val_loss: 0.0609\n"
     ]
    },
    {
     "data": {
      "text/plain": [
       "<keras.callbacks.History at 0x1a151dbe48>"
      ]
     },
     "execution_count": 103,
     "metadata": {},
     "output_type": "execute_result"
    }
   ],
   "source": [
    "autoencoder_my.fit(X_train_my, X_train_my,\n",
    "      epochs=50,\n",
    "      batch_size=10,\n",
    "      shuffle=True,\n",
    "      validation_data=(X_test_my, X_test_my)\n",
    "      )\n",
    "\n"
   ]
  },
  {
   "cell_type": "code",
   "execution_count": 104,
   "metadata": {
    "collapsed": true
   },
   "outputs": [],
   "source": [
    "# if you want an encoded flatten representation of every test MNIST\n",
    "reduced_representation_my =encoder_my.predict(X_test_my)"
   ]
  },
  {
   "cell_type": "code",
   "execution_count": 105,
   "metadata": {
    "scrolled": true
   },
   "outputs": [
    {
     "name": "stdout",
     "output_type": "stream",
     "text": [
      "Train on 401 samples, validate on 172 samples\n",
      "Epoch 1/50\n",
      "401/401 [==============================] - 1s 2ms/step - loss: 0.0568 - val_loss: 0.0607\n",
      "Epoch 2/50\n",
      "401/401 [==============================] - 0s 777us/step - loss: 0.0566 - val_loss: 0.0606\n",
      "Epoch 3/50\n",
      "401/401 [==============================] - 0s 770us/step - loss: 0.0565 - val_loss: 0.0612\n",
      "Epoch 4/50\n",
      "401/401 [==============================] - 0s 682us/step - loss: 0.0563 - val_loss: 0.0602\n",
      "Epoch 5/50\n",
      "401/401 [==============================] - 0s 694us/step - loss: 0.0561 - val_loss: 0.0602\n",
      "Epoch 6/50\n",
      "401/401 [==============================] - 0s 676us/step - loss: 0.0560 - val_loss: 0.0604\n",
      "Epoch 7/50\n",
      "401/401 [==============================] - 0s 676us/step - loss: 0.0560 - val_loss: 0.0602\n",
      "Epoch 8/50\n",
      "401/401 [==============================] - 0s 667us/step - loss: 0.0559 - val_loss: 0.0602\n",
      "Epoch 9/50\n",
      "401/401 [==============================] - 0s 648us/step - loss: 0.0557 - val_loss: 0.0597\n",
      "Epoch 10/50\n",
      "401/401 [==============================] - 0s 681us/step - loss: 0.0557 - val_loss: 0.0599\n",
      "Epoch 11/50\n",
      "401/401 [==============================] - 0s 691us/step - loss: 0.0556 - val_loss: 0.0596\n",
      "Epoch 12/50\n",
      "401/401 [==============================] - 0s 914us/step - loss: 0.0555 - val_loss: 0.0595\n",
      "Epoch 13/50\n",
      "401/401 [==============================] - 0s 689us/step - loss: 0.0555 - val_loss: 0.0595\n",
      "Epoch 14/50\n",
      "401/401 [==============================] - 0s 705us/step - loss: 0.0554 - val_loss: 0.0601\n",
      "Epoch 15/50\n",
      "401/401 [==============================] - 0s 679us/step - loss: 0.0553 - val_loss: 0.0599\n",
      "Epoch 16/50\n",
      "401/401 [==============================] - 0s 759us/step - loss: 0.0552 - val_loss: 0.0595\n",
      "Epoch 17/50\n",
      "401/401 [==============================] - 0s 810us/step - loss: 0.0551 - val_loss: 0.0590\n",
      "Epoch 18/50\n",
      "401/401 [==============================] - 0s 658us/step - loss: 0.0551 - val_loss: 0.0592\n",
      "Epoch 19/50\n",
      "401/401 [==============================] - 0s 673us/step - loss: 0.0550 - val_loss: 0.0601\n",
      "Epoch 20/50\n",
      "401/401 [==============================] - 0s 656us/step - loss: 0.0549 - val_loss: 0.0588\n",
      "Epoch 21/50\n",
      "401/401 [==============================] - 0s 639us/step - loss: 0.0548 - val_loss: 0.0587\n",
      "Epoch 22/50\n",
      "401/401 [==============================] - 0s 669us/step - loss: 0.0548 - val_loss: 0.0602\n",
      "Epoch 23/50\n",
      "401/401 [==============================] - 0s 666us/step - loss: 0.0547 - val_loss: 0.0587\n",
      "Epoch 24/50\n",
      "401/401 [==============================] - 0s 667us/step - loss: 0.0545 - val_loss: 0.0585\n",
      "Epoch 25/50\n",
      "401/401 [==============================] - 0s 667us/step - loss: 0.0545 - val_loss: 0.0588\n",
      "Epoch 26/50\n",
      "401/401 [==============================] - 0s 649us/step - loss: 0.0546 - val_loss: 0.0588\n",
      "Epoch 27/50\n",
      "401/401 [==============================] - 0s 646us/step - loss: 0.0544 - val_loss: 0.0585\n",
      "Epoch 28/50\n",
      "401/401 [==============================] - 0s 657us/step - loss: 0.0544 - val_loss: 0.0582\n",
      "Epoch 29/50\n",
      "401/401 [==============================] - 0s 644us/step - loss: 0.0543 - val_loss: 0.0590\n",
      "Epoch 30/50\n",
      "401/401 [==============================] - 0s 575us/step - loss: 0.0542 - val_loss: 0.0582\n",
      "Epoch 31/50\n",
      "401/401 [==============================] - 0s 659us/step - loss: 0.0541 - val_loss: 0.0588\n",
      "Epoch 32/50\n",
      "401/401 [==============================] - 0s 661us/step - loss: 0.0541 - val_loss: 0.0582\n",
      "Epoch 33/50\n",
      "401/401 [==============================] - 0s 653us/step - loss: 0.0540 - val_loss: 0.0580\n",
      "Epoch 34/50\n",
      "401/401 [==============================] - 0s 658us/step - loss: 0.0540 - val_loss: 0.0580\n",
      "Epoch 35/50\n",
      "401/401 [==============================] - 0s 655us/step - loss: 0.0539 - val_loss: 0.0585\n",
      "Epoch 36/50\n",
      "401/401 [==============================] - 0s 646us/step - loss: 0.0539 - val_loss: 0.0581\n",
      "Epoch 37/50\n",
      "401/401 [==============================] - 0s 657us/step - loss: 0.0539 - val_loss: 0.0578\n",
      "Epoch 38/50\n",
      "401/401 [==============================] - 0s 663us/step - loss: 0.0538 - val_loss: 0.0578\n",
      "Epoch 39/50\n",
      "401/401 [==============================] - 0s 641us/step - loss: 0.0538 - val_loss: 0.0577\n",
      "Epoch 40/50\n",
      "401/401 [==============================] - 0s 662us/step - loss: 0.0537 - val_loss: 0.0577\n",
      "Epoch 41/50\n",
      "401/401 [==============================] - 0s 648us/step - loss: 0.0536 - val_loss: 0.0587\n",
      "Epoch 42/50\n",
      "401/401 [==============================] - 0s 662us/step - loss: 0.0537 - val_loss: 0.0576\n",
      "Epoch 43/50\n",
      "401/401 [==============================] - 0s 637us/step - loss: 0.0535 - val_loss: 0.0587\n",
      "Epoch 44/50\n",
      "401/401 [==============================] - 0s 640us/step - loss: 0.0536 - val_loss: 0.0575\n",
      "Epoch 45/50\n",
      "401/401 [==============================] - 0s 640us/step - loss: 0.0535 - val_loss: 0.0576\n",
      "Epoch 46/50\n",
      "401/401 [==============================] - 0s 640us/step - loss: 0.0535 - val_loss: 0.0575\n",
      "Epoch 47/50\n",
      "401/401 [==============================] - 0s 644us/step - loss: 0.0534 - val_loss: 0.0574\n",
      "Epoch 48/50\n",
      "401/401 [==============================] - 0s 646us/step - loss: 0.0534 - val_loss: 0.0573\n",
      "Epoch 49/50\n",
      "401/401 [==============================] - 0s 639us/step - loss: 0.0532 - val_loss: 0.0574\n",
      "Epoch 50/50\n",
      "401/401 [==============================] - 0s 661us/step - loss: 0.0533 - val_loss: 0.0582\n"
     ]
    },
    {
     "data": {
      "text/plain": [
       "<keras.callbacks.History at 0x1a177e4080>"
      ]
     },
     "execution_count": 105,
     "metadata": {},
     "output_type": "execute_result"
    }
   ],
   "source": [
    "#encoder is the model of the autoencoder slice in the middle \n",
    "encoder_my = Model(input_img_my, y_my)\n",
    "\n",
    "autoencoder_my.compile(optimizer='adadelta', loss='mse') # reporting the loss\n",
    "\n",
    "autoencoder_my.fit(X_train_my, X_train_my,\n",
    "      epochs=50,\n",
    "      batch_size=10,\n",
    "      shuffle=True,\n",
    "      validation_data=(X_test_my, X_test_my))"
   ]
  },
  {
   "cell_type": "code",
   "execution_count": 106,
   "metadata": {
    "collapsed": true
   },
   "outputs": [],
   "source": [
    "# if you want an encoded flatten representation of every test MNIST\n",
    "reduced_representation_my =encoder_my.predict(X_test_my)"
   ]
  },
  {
   "cell_type": "code",
   "execution_count": 107,
   "metadata": {
    "collapsed": true
   },
   "outputs": [],
   "source": [
    "out2_my = Dense(6, activation='softmax')(encoder_my.output)\n",
    "newmodel_my = Model(encoder_my.input,out2_my)"
   ]
  },
  {
   "cell_type": "code",
   "execution_count": 108,
   "metadata": {
    "collapsed": true
   },
   "outputs": [],
   "source": [
    "newmodel_my.compile(loss='categorical_crossentropy',\n",
    "          optimizer='adam', \n",
    "          metrics=['accuracy']) "
   ]
  },
  {
   "cell_type": "code",
   "execution_count": 109,
   "metadata": {},
   "outputs": [
    {
     "name": "stdout",
     "output_type": "stream",
     "text": [
      "Train on 401 samples, validate on 172 samples\n",
      "Epoch 1/50\n",
      "401/401 [==============================] - 1s 2ms/step - loss: 2.9899 - acc: 0.0125 - val_loss: 2.8603 - val_acc: 0.0349\n",
      "Epoch 2/50\n",
      "401/401 [==============================] - 0s 74us/step - loss: 2.7143 - acc: 0.0150 - val_loss: 2.6041 - val_acc: 0.0349\n",
      "Epoch 3/50\n",
      "401/401 [==============================] - 0s 83us/step - loss: 2.4769 - acc: 0.0150 - val_loss: 2.3829 - val_acc: 0.0349\n",
      "Epoch 4/50\n",
      "401/401 [==============================] - 0s 77us/step - loss: 2.2711 - acc: 0.0150 - val_loss: 2.1943 - val_acc: 0.0407\n",
      "Epoch 5/50\n",
      "401/401 [==============================] - 0s 80us/step - loss: 2.0987 - acc: 0.0898 - val_loss: 2.0341 - val_acc: 0.3837\n",
      "Epoch 6/50\n",
      "401/401 [==============================] - 0s 70us/step - loss: 1.9524 - acc: 0.4339 - val_loss: 1.8982 - val_acc: 0.5291\n",
      "Epoch 7/50\n",
      "401/401 [==============================] - 0s 73us/step - loss: 1.8256 - acc: 0.5362 - val_loss: 1.7808 - val_acc: 0.5407\n",
      "Epoch 8/50\n",
      "401/401 [==============================] - 0s 78us/step - loss: 1.7161 - acc: 0.5536 - val_loss: 1.6789 - val_acc: 0.5465\n",
      "Epoch 9/50\n",
      "401/401 [==============================] - 0s 77us/step - loss: 1.6251 - acc: 0.5536 - val_loss: 1.5916 - val_acc: 0.5465\n",
      "Epoch 10/50\n",
      "401/401 [==============================] - 0s 78us/step - loss: 1.5475 - acc: 0.5536 - val_loss: 1.5217 - val_acc: 0.5465\n",
      "Epoch 11/50\n",
      "401/401 [==============================] - 0s 78us/step - loss: 1.4874 - acc: 0.5536 - val_loss: 1.4654 - val_acc: 0.5465\n",
      "Epoch 12/50\n",
      "401/401 [==============================] - 0s 84us/step - loss: 1.4398 - acc: 0.5536 - val_loss: 1.4205 - val_acc: 0.5465\n",
      "Epoch 13/50\n",
      "401/401 [==============================] - 0s 77us/step - loss: 1.3974 - acc: 0.5536 - val_loss: 1.3810 - val_acc: 0.5465\n",
      "Epoch 14/50\n",
      "401/401 [==============================] - 0s 79us/step - loss: 1.3600 - acc: 0.5536 - val_loss: 1.3470 - val_acc: 0.5523\n",
      "Epoch 15/50\n",
      "401/401 [==============================] - 0s 81us/step - loss: 1.3299 - acc: 0.5536 - val_loss: 1.3173 - val_acc: 0.5523\n",
      "Epoch 16/50\n",
      "401/401 [==============================] - 0s 74us/step - loss: 1.3016 - acc: 0.5536 - val_loss: 1.2920 - val_acc: 0.5581\n",
      "Epoch 17/50\n",
      "401/401 [==============================] - 0s 70us/step - loss: 1.2792 - acc: 0.5536 - val_loss: 1.2705 - val_acc: 0.5581\n",
      "Epoch 18/50\n",
      "401/401 [==============================] - 0s 68us/step - loss: 1.2581 - acc: 0.5536 - val_loss: 1.2525 - val_acc: 0.5523\n",
      "Epoch 19/50\n",
      "401/401 [==============================] - 0s 67us/step - loss: 1.2419 - acc: 0.5536 - val_loss: 1.2362 - val_acc: 0.5523\n",
      "Epoch 20/50\n",
      "401/401 [==============================] - 0s 91us/step - loss: 1.2262 - acc: 0.5561 - val_loss: 1.2224 - val_acc: 0.5523\n",
      "Epoch 21/50\n",
      "401/401 [==============================] - 0s 90us/step - loss: 1.2133 - acc: 0.5636 - val_loss: 1.2099 - val_acc: 0.5640\n",
      "Epoch 22/50\n",
      "401/401 [==============================] - 0s 80us/step - loss: 1.2026 - acc: 0.5611 - val_loss: 1.1991 - val_acc: 0.5640\n",
      "Epoch 23/50\n",
      "401/401 [==============================] - 0s 89us/step - loss: 1.1928 - acc: 0.5636 - val_loss: 1.1898 - val_acc: 0.5640\n",
      "Epoch 24/50\n",
      "401/401 [==============================] - 0s 85us/step - loss: 1.1839 - acc: 0.5636 - val_loss: 1.1816 - val_acc: 0.5640\n",
      "Epoch 25/50\n",
      "401/401 [==============================] - 0s 98us/step - loss: 1.1753 - acc: 0.5636 - val_loss: 1.1739 - val_acc: 0.5640\n",
      "Epoch 26/50\n",
      "401/401 [==============================] - 0s 95us/step - loss: 1.1684 - acc: 0.5636 - val_loss: 1.1672 - val_acc: 0.5640\n",
      "Epoch 27/50\n",
      "401/401 [==============================] - 0s 86us/step - loss: 1.1612 - acc: 0.5661 - val_loss: 1.1617 - val_acc: 0.5640\n",
      "Epoch 28/50\n",
      "401/401 [==============================] - 0s 85us/step - loss: 1.1544 - acc: 0.5661 - val_loss: 1.1566 - val_acc: 0.5640\n",
      "Epoch 29/50\n",
      "401/401 [==============================] - 0s 80us/step - loss: 1.1480 - acc: 0.5661 - val_loss: 1.1518 - val_acc: 0.5640\n",
      "Epoch 30/50\n",
      "401/401 [==============================] - ETA: 0s - loss: 1.1460 - acc: 0.570 - 0s 93us/step - loss: 1.1433 - acc: 0.5636 - val_loss: 1.1480 - val_acc: 0.5640\n",
      "Epoch 31/50\n",
      "401/401 [==============================] - 0s 98us/step - loss: 1.1381 - acc: 0.5636 - val_loss: 1.1447 - val_acc: 0.5640\n",
      "Epoch 32/50\n",
      "401/401 [==============================] - 0s 89us/step - loss: 1.1338 - acc: 0.5636 - val_loss: 1.1426 - val_acc: 0.5640\n",
      "Epoch 33/50\n",
      "401/401 [==============================] - 0s 97us/step - loss: 1.1301 - acc: 0.5611 - val_loss: 1.1411 - val_acc: 0.5581\n",
      "Epoch 34/50\n",
      "401/401 [==============================] - 0s 89us/step - loss: 1.1266 - acc: 0.5611 - val_loss: 1.1404 - val_acc: 0.5523\n",
      "Epoch 35/50\n",
      "401/401 [==============================] - 0s 67us/step - loss: 1.1234 - acc: 0.5586 - val_loss: 1.1388 - val_acc: 0.5640\n",
      "Epoch 36/50\n",
      "401/401 [==============================] - 0s 87us/step - loss: 1.1200 - acc: 0.5611 - val_loss: 1.1380 - val_acc: 0.5640\n",
      "Epoch 37/50\n",
      "401/401 [==============================] - 0s 103us/step - loss: 1.1174 - acc: 0.5636 - val_loss: 1.1371 - val_acc: 0.5640\n",
      "Epoch 38/50\n",
      "401/401 [==============================] - 0s 80us/step - loss: 1.1144 - acc: 0.5636 - val_loss: 1.1363 - val_acc: 0.5640\n",
      "Epoch 39/50\n",
      "401/401 [==============================] - 0s 89us/step - loss: 1.1123 - acc: 0.5636 - val_loss: 1.1356 - val_acc: 0.5640\n",
      "Epoch 40/50\n",
      "401/401 [==============================] - 0s 108us/step - loss: 1.1094 - acc: 0.5686 - val_loss: 1.1338 - val_acc: 0.5407\n",
      "Epoch 41/50\n",
      "401/401 [==============================] - 0s 92us/step - loss: 1.1072 - acc: 0.5736 - val_loss: 1.1322 - val_acc: 0.5407\n",
      "Epoch 42/50\n",
      "401/401 [==============================] - 0s 103us/step - loss: 1.1042 - acc: 0.5761 - val_loss: 1.1317 - val_acc: 0.5407\n",
      "Epoch 43/50\n",
      "401/401 [==============================] - 0s 108us/step - loss: 1.1021 - acc: 0.5761 - val_loss: 1.1317 - val_acc: 0.5407\n",
      "Epoch 44/50\n",
      "401/401 [==============================] - 0s 109us/step - loss: 1.1002 - acc: 0.5761 - val_loss: 1.1318 - val_acc: 0.5407\n",
      "Epoch 45/50\n",
      "401/401 [==============================] - 0s 120us/step - loss: 1.0988 - acc: 0.5761 - val_loss: 1.1313 - val_acc: 0.5407\n",
      "Epoch 46/50\n",
      "401/401 [==============================] - 0s 117us/step - loss: 1.0974 - acc: 0.5736 - val_loss: 1.1307 - val_acc: 0.5407\n",
      "Epoch 47/50\n",
      "401/401 [==============================] - 0s 88us/step - loss: 1.0954 - acc: 0.5786 - val_loss: 1.1299 - val_acc: 0.5407\n",
      "Epoch 48/50\n",
      "401/401 [==============================] - 0s 92us/step - loss: 1.0935 - acc: 0.5786 - val_loss: 1.1300 - val_acc: 0.5407\n",
      "Epoch 49/50\n",
      "401/401 [==============================] - 0s 102us/step - loss: 1.0921 - acc: 0.5736 - val_loss: 1.1299 - val_acc: 0.5407\n",
      "Epoch 50/50\n",
      "401/401 [==============================] - 0s 113us/step - loss: 1.0905 - acc: 0.5736 - val_loss: 1.1302 - val_acc: 0.5407\n"
     ]
    },
    {
     "data": {
      "text/plain": [
       "<keras.callbacks.History at 0x1a17e08160>"
      ]
     },
     "execution_count": 109,
     "metadata": {},
     "output_type": "execute_result"
    }
   ],
   "source": [
    "newmodel_my.fit(X_train_my, Y_train_my,\n",
    "      epochs=50,\n",
    "      batch_size=128,\n",
    "      shuffle=True,\n",
    "      validation_data=(X_test_my, Y_test_my))"
   ]
  },
  {
   "cell_type": "code",
   "execution_count": 110,
   "metadata": {},
   "outputs": [
    {
     "name": "stdout",
     "output_type": "stream",
     "text": [
      "172/172 [==============================] - 0s 2ms/step\n",
      "[[ 0.00637006  0.01274351  0.1903121   0.62700623  0.14834641  0.01522166]\n",
      " [ 0.00679308  0.00917718  0.15293358  0.63658202  0.17884699  0.01566716]\n",
      " [ 0.00805046  0.0217279   0.30009222  0.46823391  0.18406098  0.01783453]\n",
      " ..., \n",
      " [ 0.01780124  0.02345864  0.19528389  0.53203261  0.19945464  0.03196897]\n",
      " [ 0.01505948  0.0444624   0.26378724  0.49185595  0.14974725  0.03508768]\n",
      " [ 0.0097586   0.0145137   0.17029296  0.61600941  0.16823184  0.02119351]]\n",
      "172/172 [==============================] - 0s 83us/step\n",
      "[3 3 3 3 3 3 3 3 3 3 3 3 3 2 3 3 3 3 3 3 3 3 3 3 3 3 3 3 3 3 3 3 3 3 3 3 3\n",
      " 3 3 3 3 3 3 3 2 3 3 3 3 2 3 3 3 3 3 3 3 3 3 3 3 3 3 3 3 3 3 3 3 3 3 3 2 3\n",
      " 3 3 3 3 3 3 3 3 3 3 3 3 3 3 3 3 3 3 3 3 3 3 3 3 3 2 3 3 3 3 3 3 2 3 3 3 3\n",
      " 3 3 3 3 3 3 2 3 3 2 3 3 3 3 3 3 3 3 3 3 3 3 3 3 3 3 3 3 3 3 3 3 2 3 3 3 3\n",
      " 3 3 3 3 3 3 3 3 3 3 3 3 3 3 3 3 3 3 3 3 3 3 3 3]\n",
      "172/172 [==============================] - 0s 129us/step\n",
      "[ 2.  3.  3.  3.  2.  3.  2.  3.  3.  2.  3.  3.  5.  2.  2.  3.  4.  2.\n",
      "  3.  3.  4.  4.  4.  4.  4.  3.  3.  2.  3.  2.  3.  2.  3.  3.  3.  3.\n",
      "  3.  3.  4.  2.  3.  2.  2.  3.  3.  3.  3.  3.  2.  2.  5.  3.  4.  4.\n",
      "  3.  3.  3.  4.  3.  2.  4.  3.  2.  2.  2.  3.  4.  2.  4.  3.  3.  3.\n",
      "  3.  2.  2.  3.  4.  3.  4.  4.  3.  3.  2.  3.  3.  2.  3.  5.  3.  3.\n",
      "  5.  2.  4.  2.  3.  2.  3.  4.  3.  2.  3.  3.  3.  3.  4.  3.  3.  3.\n",
      "  2.  3.  2.  3.  2.  2.  2.  3.  3.  3.  3.  3.  2.  2.  2.  3.  4.  2.\n",
      "  3.  3.  3.  4.  3.  2.  2.  3.  3.  3.  3.  3.  3.  3.  2.  3.  3.  3.\n",
      "  3.  2.  3.  1.  2.  3.  3.  2.  2.  3.  3.  2.  3.  3.  3.  3.  3.  5.\n",
      "  2.  3.  3.  2.  3.  3.  2.  2.  4.  5.]\n",
      "Accuracy:  0.540697673726\n",
      "172/172 [==============================] - 0s 171us/step\n",
      "[[ 0  0  1  0  0]\n",
      " [ 0  4 45  0  0]\n",
      " [ 0  5 89  0  0]\n",
      " [ 0  0 22  0  0]\n",
      " [ 0  0  6  0  0]]\n"
     ]
    }
   ],
   "source": [
    "print(newmodel_my.predict(X_test_my, verbose=1))\n",
    "print(np.argmax(newmodel_my.predict(X_test_my, verbose=1),axis=1))\n",
    "\n",
    "scores_my = newmodel_my.evaluate(X_test_my, Y_test_my, verbose=1) \n",
    "print(y_test_my)\n",
    "print(\"Accuracy: \", scores_my[1])\n",
    "\n",
    "from sklearn.metrics import confusion_matrix\n",
    "cfm = confusion_matrix(np.array(y_test_my),np.array(np.argmax(newmodel_my.predict(X_test_my, verbose=1),axis=1)))\n",
    "print(cfm)"
   ]
  },
  {
   "cell_type": "code",
   "execution_count": null,
   "metadata": {
    "collapsed": true
   },
   "outputs": [],
   "source": []
  },
  {
   "cell_type": "code",
   "execution_count": null,
   "metadata": {
    "collapsed": true
   },
   "outputs": [],
   "source": []
  }
 ],
 "metadata": {
  "kernelspec": {
   "display_name": "Python 3",
   "language": "python",
   "name": "python3"
  },
  "language_info": {
   "codemirror_mode": {
    "name": "ipython",
    "version": 3
   },
   "file_extension": ".py",
   "mimetype": "text/x-python",
   "name": "python",
   "nbconvert_exporter": "python",
   "pygments_lexer": "ipython3",
   "version": "3.6.4"
  }
 },
 "nbformat": 4,
 "nbformat_minor": 2
}
